{
 "cells": [
  {
   "cell_type": "markdown",
   "metadata": {},
   "source": [
    "**ConvKAN using Efficient KAN Implementation**"
   ]
  },
  {
   "cell_type": "code",
   "execution_count": 9,
   "metadata": {},
   "outputs": [
    {
     "name": "stdout",
     "output_type": "stream",
     "text": [
      "Input:  torch.Size([1, 3, 32, 32])\n",
      "Output:  torch.Size([1, 4, 32, 32])\n"
     ]
    }
   ],
   "source": [
    "import torch\n",
    "from ConvKAN import ConvKAN\n",
    "\n",
    "conv = ConvKAN(in_channels=3, out_channels=4, kernel_size=3, stride=1, padding=1, version=ConvKAN.Version.EFFICIENT)\n",
    "\n",
    "x = torch.rand((1,3,32,32))\n",
    "y = conv(x)\n",
    "\n",
    "print(\"Input: \", x.shape)\n",
    "print(\"Output: \", y.shape)"
   ]
  },
  {
   "cell_type": "markdown",
   "metadata": {},
   "source": [
    "**ConvKAN using Original KAN Implementation**"
   ]
  },
  {
   "cell_type": "code",
   "execution_count": 10,
   "metadata": {},
   "outputs": [
    {
     "name": "stdout",
     "output_type": "stream",
     "text": [
      "Input:  torch.Size([1, 3, 32, 32])\n",
      "Output:  torch.Size([1, 4, 32, 32])\n"
     ]
    }
   ],
   "source": [
    "import torch\n",
    "from ConvKAN import ConvKAN\n",
    "\n",
    "conv = ConvKAN(in_channels=3, out_channels=4, kernel_size=3, stride=1, padding=1, version=ConvKAN.Version.ORIGINAL)\n",
    "\n",
    "x = torch.rand((1,3,32,32))\n",
    "y = conv(x)\n",
    "\n",
    "print(\"Input: \", x.shape)\n",
    "print(\"Output: \", y.shape)"
   ]
  }
 ],
 "metadata": {
  "kernelspec": {
   "display_name": "Python 3",
   "language": "python",
   "name": "python3"
  },
  "language_info": {
   "codemirror_mode": {
    "name": "ipython",
    "version": 3
   },
   "file_extension": ".py",
   "mimetype": "text/x-python",
   "name": "python",
   "nbconvert_exporter": "python",
   "pygments_lexer": "ipython3",
   "version": "3.12.2"
  }
 },
 "nbformat": 4,
 "nbformat_minor": 2
}
